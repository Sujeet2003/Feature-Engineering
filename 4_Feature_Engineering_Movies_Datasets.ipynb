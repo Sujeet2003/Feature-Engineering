{
  "nbformat": 4,
  "nbformat_minor": 0,
  "metadata": {
    "colab": {
      "provenance": [],
      "mount_file_id": "19QTyl_Gr9AFSBi32_7rGC8bIME1vB6sZ",
      "authorship_tag": "ABX9TyOvTURPMedx/CNe78pdx+nz",
      "include_colab_link": true
    },
    "kernelspec": {
      "name": "python3",
      "display_name": "Python 3"
    },
    "language_info": {
      "name": "python"
    }
  },
  "cells": [
    {
      "cell_type": "markdown",
      "metadata": {
        "id": "view-in-github",
        "colab_type": "text"
      },
      "source": [
        "<a href=\"https://colab.research.google.com/github/Sujeet2003/Feature-Engineering/blob/main/4_Feature_Engineering_Movies_Datasets.ipynb\" target=\"_parent\"><img src=\"https://colab.research.google.com/assets/colab-badge.svg\" alt=\"Open In Colab\"/></a>"
      ]
    },
    {
      "cell_type": "code",
      "execution_count": 2,
      "metadata": {
        "id": "aRcAqpXUNGxE"
      },
      "outputs": [],
      "source": [
        "import numpy as np\n",
        "import pandas as pd\n",
        "import os"
      ]
    },
    {
      "cell_type": "markdown",
      "source": [
        "## Merging all collected datasets into a single dataframe"
      ],
      "metadata": {
        "id": "43o3tqFPQd3Y"
      }
    },
    {
      "cell_type": "code",
      "source": [
        "# lists = os.listdir('/content/')\n",
        "# lists = lists[1:10]"
      ],
      "metadata": {
        "id": "RZg1AG1WOneu"
      },
      "execution_count": 18,
      "outputs": []
    },
    {
      "cell_type": "code",
      "source": [
        "# lists"
      ],
      "metadata": {
        "id": "ygq2dYV1PDN4"
      },
      "execution_count": 19,
      "outputs": []
    },
    {
      "cell_type": "code",
      "source": [
        "# df = pd.DataFrame()\n",
        "# for l in lists:\n",
        "#   data = pd.read_csv('/content/' + l)\n",
        "#   df = pd.concat([df, data])"
      ],
      "metadata": {
        "id": "UR3pmVN4OnbQ"
      },
      "execution_count": 20,
      "outputs": []
    },
    {
      "cell_type": "code",
      "source": [
        "# df.head(1)"
      ],
      "metadata": {
        "id": "fOFVrxfLO3hr"
      },
      "execution_count": 21,
      "outputs": []
    },
    {
      "cell_type": "code",
      "source": [
        "# df.to_csv('scarpped_movies_datasets.csv', index=False)"
      ],
      "metadata": {
        "id": "BfT4k5VyP2Bb"
      },
      "execution_count": 22,
      "outputs": []
    },
    {
      "cell_type": "code",
      "source": [
        "df = pd.read_csv('/content/drive/MyDrive/Colab Notebooks/Datasets/scarpped_movies_datasets.csv')"
      ],
      "metadata": {
        "id": "1tuGsagHQGIY"
      },
      "execution_count": 47,
      "outputs": []
    },
    {
      "cell_type": "code",
      "source": [
        "df.head(1)"
      ],
      "metadata": {
        "colab": {
          "base_uri": "https://localhost:8080/",
          "height": 205
        },
        "id": "T0YOfcKZRn4C",
        "outputId": "f4b65113-7bb7-4828-fd85-4c04bd5e5df9"
      },
      "execution_count": 48,
      "outputs": [
        {
          "output_type": "execute_result",
          "data": {
            "text/plain": [
              "              title release_date duration (in Min)  \\\n",
              "0  Ballad of Rustom  03 Mar 2016           117 min   \n",
              "\n",
              "                                         poster_path genres  \\\n",
              "0  https://m.media-amazon.com/images/M/MV5BYTg0OG...  Drama   \n",
              "\n",
              "                                            overview              director  \\\n",
              "0  Rustom works in a small government office in t...  Ajita Suchitra Veera   \n",
              "\n",
              "                                       casts  rating total_votes  meta_score  \\\n",
              "0  Ashwath Bhatt, Samiksha Bhatt, Tejaswi Bm     7.8          30         NaN   \n",
              "\n",
              "  languages origin_country  \n",
              "0     Hindi          India  "
            ],
            "text/html": [
              "\n",
              "  <div id=\"df-d606996b-6cb9-47db-ba13-32b44356b0ed\" class=\"colab-df-container\">\n",
              "    <div>\n",
              "<style scoped>\n",
              "    .dataframe tbody tr th:only-of-type {\n",
              "        vertical-align: middle;\n",
              "    }\n",
              "\n",
              "    .dataframe tbody tr th {\n",
              "        vertical-align: top;\n",
              "    }\n",
              "\n",
              "    .dataframe thead th {\n",
              "        text-align: right;\n",
              "    }\n",
              "</style>\n",
              "<table border=\"1\" class=\"dataframe\">\n",
              "  <thead>\n",
              "    <tr style=\"text-align: right;\">\n",
              "      <th></th>\n",
              "      <th>title</th>\n",
              "      <th>release_date</th>\n",
              "      <th>duration (in Min)</th>\n",
              "      <th>poster_path</th>\n",
              "      <th>genres</th>\n",
              "      <th>overview</th>\n",
              "      <th>director</th>\n",
              "      <th>casts</th>\n",
              "      <th>rating</th>\n",
              "      <th>total_votes</th>\n",
              "      <th>meta_score</th>\n",
              "      <th>languages</th>\n",
              "      <th>origin_country</th>\n",
              "    </tr>\n",
              "  </thead>\n",
              "  <tbody>\n",
              "    <tr>\n",
              "      <th>0</th>\n",
              "      <td>Ballad of Rustom</td>\n",
              "      <td>03 Mar 2016</td>\n",
              "      <td>117 min</td>\n",
              "      <td>https://m.media-amazon.com/images/M/MV5BYTg0OG...</td>\n",
              "      <td>Drama</td>\n",
              "      <td>Rustom works in a small government office in t...</td>\n",
              "      <td>Ajita Suchitra Veera</td>\n",
              "      <td>Ashwath Bhatt, Samiksha Bhatt, Tejaswi Bm</td>\n",
              "      <td>7.8</td>\n",
              "      <td>30</td>\n",
              "      <td>NaN</td>\n",
              "      <td>Hindi</td>\n",
              "      <td>India</td>\n",
              "    </tr>\n",
              "  </tbody>\n",
              "</table>\n",
              "</div>\n",
              "    <div class=\"colab-df-buttons\">\n",
              "\n",
              "  <div class=\"colab-df-container\">\n",
              "    <button class=\"colab-df-convert\" onclick=\"convertToInteractive('df-d606996b-6cb9-47db-ba13-32b44356b0ed')\"\n",
              "            title=\"Convert this dataframe to an interactive table.\"\n",
              "            style=\"display:none;\">\n",
              "\n",
              "  <svg xmlns=\"http://www.w3.org/2000/svg\" height=\"24px\" viewBox=\"0 -960 960 960\">\n",
              "    <path d=\"M120-120v-720h720v720H120Zm60-500h600v-160H180v160Zm220 220h160v-160H400v160Zm0 220h160v-160H400v160ZM180-400h160v-160H180v160Zm440 0h160v-160H620v160ZM180-180h160v-160H180v160Zm440 0h160v-160H620v160Z\"/>\n",
              "  </svg>\n",
              "    </button>\n",
              "\n",
              "  <style>\n",
              "    .colab-df-container {\n",
              "      display:flex;\n",
              "      gap: 12px;\n",
              "    }\n",
              "\n",
              "    .colab-df-convert {\n",
              "      background-color: #E8F0FE;\n",
              "      border: none;\n",
              "      border-radius: 50%;\n",
              "      cursor: pointer;\n",
              "      display: none;\n",
              "      fill: #1967D2;\n",
              "      height: 32px;\n",
              "      padding: 0 0 0 0;\n",
              "      width: 32px;\n",
              "    }\n",
              "\n",
              "    .colab-df-convert:hover {\n",
              "      background-color: #E2EBFA;\n",
              "      box-shadow: 0px 1px 2px rgba(60, 64, 67, 0.3), 0px 1px 3px 1px rgba(60, 64, 67, 0.15);\n",
              "      fill: #174EA6;\n",
              "    }\n",
              "\n",
              "    .colab-df-buttons div {\n",
              "      margin-bottom: 4px;\n",
              "    }\n",
              "\n",
              "    [theme=dark] .colab-df-convert {\n",
              "      background-color: #3B4455;\n",
              "      fill: #D2E3FC;\n",
              "    }\n",
              "\n",
              "    [theme=dark] .colab-df-convert:hover {\n",
              "      background-color: #434B5C;\n",
              "      box-shadow: 0px 1px 3px 1px rgba(0, 0, 0, 0.15);\n",
              "      filter: drop-shadow(0px 1px 2px rgba(0, 0, 0, 0.3));\n",
              "      fill: #FFFFFF;\n",
              "    }\n",
              "  </style>\n",
              "\n",
              "    <script>\n",
              "      const buttonEl =\n",
              "        document.querySelector('#df-d606996b-6cb9-47db-ba13-32b44356b0ed button.colab-df-convert');\n",
              "      buttonEl.style.display =\n",
              "        google.colab.kernel.accessAllowed ? 'block' : 'none';\n",
              "\n",
              "      async function convertToInteractive(key) {\n",
              "        const element = document.querySelector('#df-d606996b-6cb9-47db-ba13-32b44356b0ed');\n",
              "        const dataTable =\n",
              "          await google.colab.kernel.invokeFunction('convertToInteractive',\n",
              "                                                    [key], {});\n",
              "        if (!dataTable) return;\n",
              "\n",
              "        const docLinkHtml = 'Like what you see? Visit the ' +\n",
              "          '<a target=\"_blank\" href=https://colab.research.google.com/notebooks/data_table.ipynb>data table notebook</a>'\n",
              "          + ' to learn more about interactive tables.';\n",
              "        element.innerHTML = '';\n",
              "        dataTable['output_type'] = 'display_data';\n",
              "        await google.colab.output.renderOutput(dataTable, element);\n",
              "        const docLink = document.createElement('div');\n",
              "        docLink.innerHTML = docLinkHtml;\n",
              "        element.appendChild(docLink);\n",
              "      }\n",
              "    </script>\n",
              "  </div>\n",
              "\n",
              "\n",
              "    </div>\n",
              "  </div>\n"
            ],
            "application/vnd.google.colaboratory.intrinsic+json": {
              "type": "dataframe",
              "variable_name": "df",
              "summary": "{\n  \"name\": \"df\",\n  \"rows\": 8096,\n  \"fields\": [\n    {\n      \"column\": \"title\",\n      \"properties\": {\n        \"dtype\": \"string\",\n        \"num_unique_values\": 6502,\n        \"samples\": [\n          \"Veer vs Heer\",\n          \"Pyaar Tune Kya Kiya...\",\n          \"Nauker\"\n        ],\n        \"semantic_type\": \"\",\n        \"description\": \"\"\n      }\n    },\n    {\n      \"column\": \"release_date\",\n      \"properties\": {\n        \"dtype\": \"object\",\n        \"num_unique_values\": 3351,\n        \"samples\": [\n          \"04 Jun 2004\",\n          \"05 Jul 1991\",\n          \"06 Aug 1999\"\n        ],\n        \"semantic_type\": \"\",\n        \"description\": \"\"\n      }\n    },\n    {\n      \"column\": \"duration (in Min)\",\n      \"properties\": {\n        \"dtype\": \"category\",\n        \"num_unique_values\": 213,\n        \"samples\": [\n          \"137 min\",\n          \"31 min\",\n          \"96 min\"\n        ],\n        \"semantic_type\": \"\",\n        \"description\": \"\"\n      }\n    },\n    {\n      \"column\": \"poster_path\",\n      \"properties\": {\n        \"dtype\": \"string\",\n        \"num_unique_values\": 6347,\n        \"samples\": [\n          \"https://m.media-amazon.com/images/M/MV5BNzEwZjNjNDItOGJmMC00YjBhLTk3YTItNzA1ZmM5NGFmOTBkXkEyXkFqcGdeQXVyNDUxNjc5NjY@._V1_SX300.jpg\",\n          \"https://m.media-amazon.com/images/M/MV5BM2Y3YWEwMzMtODAwNS00NmEyLThlZDYtMWIyYjcxMjY2YzkxXkEyXkFqcGdeQXVyODE5NzE3OTE@._V1_SX300.jpg\",\n          \"https://m.media-amazon.com/images/M/MV5BMWFiZDAxNTEtNDQxYy00N2YyLThmODItNzNiOTE4ZTY4MmNlXkEyXkFqcGdeQXVyNTM3MDMyMDQ@._V1_SX300.jpg\"\n        ],\n        \"semantic_type\": \"\",\n        \"description\": \"\"\n      }\n    },\n    {\n      \"column\": \"genres\",\n      \"properties\": {\n        \"dtype\": \"category\",\n        \"num_unique_values\": 445,\n        \"samples\": [\n          \"Adventure, Fantasy, Musical\",\n          \"Short, Adventure, Drama\",\n          \"Sport\"\n        ],\n        \"semantic_type\": \"\",\n        \"description\": \"\"\n      }\n    },\n    {\n      \"column\": \"overview\",\n      \"properties\": {\n        \"dtype\": \"string\",\n        \"num_unique_values\": 6178,\n        \"samples\": [\n          \"Ajay Chandra, a hard working and ambitious young man, who dreams of bigger things than a small job. He has dreams of starting his own business. One day he meets Aruna at a friends wedding and slowly fall in love. Aruna is daughter...\",\n          \"Arvind (Deepak Dobriyal) spends his nights reading Batman comics caged in behind iron bars at his lonely chemist shop in Bombay. A prostitute (Geetika Tyagi) stops every night to buy ...\",\n          \"Lecherous Shekawat is displeased with his parents as they will all their properties and estate in the name of his sister, Sonali and her husband, Pramod. Shortly after Pramod is accused of having illicit relationship with the maid...\"\n        ],\n        \"semantic_type\": \"\",\n        \"description\": \"\"\n      }\n    },\n    {\n      \"column\": \"director\",\n      \"properties\": {\n        \"dtype\": \"category\",\n        \"num_unique_values\": 3072,\n        \"samples\": [\n          \"Subhankar Ghosh, Nana Patekar\",\n          \"Adi Irani, Shiva Rindani\",\n          \"Ajay Dixit\"\n        ],\n        \"semantic_type\": \"\",\n        \"description\": \"\"\n      }\n    },\n    {\n      \"column\": \"casts\",\n      \"properties\": {\n        \"dtype\": \"string\",\n        \"num_unique_values\": 6638,\n        \"samples\": [\n          \"Saif Ali Khan, Alaya F, Tabu\",\n          \"Dharmendra, Rajinikanth, Jaya Prada\",\n          \"Ashok Kumar, Madhubala, Johnny Walker\"\n        ],\n        \"semantic_type\": \"\",\n        \"description\": \"\"\n      }\n    },\n    {\n      \"column\": \"rating\",\n      \"properties\": {\n        \"dtype\": \"number\",\n        \"std\": 1.3905330980544932,\n        \"min\": 1.2,\n        \"max\": 10.0,\n        \"num_unique_values\": 84,\n        \"samples\": [\n          2.6,\n          7.8,\n          2.5\n        ],\n        \"semantic_type\": \"\",\n        \"description\": \"\"\n      }\n    },\n    {\n      \"column\": \"total_votes\",\n      \"properties\": {\n        \"dtype\": \"category\",\n        \"num_unique_values\": 2315,\n        \"samples\": [\n          \"9,177\",\n          \"22,427\",\n          \"251\"\n        ],\n        \"semantic_type\": \"\",\n        \"description\": \"\"\n      }\n    },\n    {\n      \"column\": \"meta_score\",\n      \"properties\": {\n        \"dtype\": \"number\",\n        \"std\": 13.603847860694247,\n        \"min\": 30.0,\n        \"max\": 87.0,\n        \"num_unique_values\": 36,\n        \"samples\": [\n          72.0,\n          49.0,\n          42.0\n        ],\n        \"semantic_type\": \"\",\n        \"description\": \"\"\n      }\n    },\n    {\n      \"column\": \"languages\",\n      \"properties\": {\n        \"dtype\": \"category\",\n        \"num_unique_values\": 266,\n        \"samples\": [\n          \"Tamil, Hindi\",\n          \"Hindi, Tamil, Malayalam, Kannada, Telugu\",\n          \"Hindi, Punjabi, Tamil, English\"\n        ],\n        \"semantic_type\": \"\",\n        \"description\": \"\"\n      }\n    },\n    {\n      \"column\": \"origin_country\",\n      \"properties\": {\n        \"dtype\": \"category\",\n        \"num_unique_values\": 124,\n        \"samples\": [\n          \"India, South Korea\",\n          \"United Kingdom, India\",\n          \"India, Czech Republic, Thailand\"\n        ],\n        \"semantic_type\": \"\",\n        \"description\": \"\"\n      }\n    }\n  ]\n}"
            }
          },
          "metadata": {},
          "execution_count": 48
        }
      ]
    },
    {
      "cell_type": "code",
      "source": [
        "df.shape"
      ],
      "metadata": {
        "colab": {
          "base_uri": "https://localhost:8080/"
        },
        "id": "uXSLKjKSRpC-",
        "outputId": "e85f21c2-65e0-48ec-8ab7-ce0b42aa706c"
      },
      "execution_count": 49,
      "outputs": [
        {
          "output_type": "execute_result",
          "data": {
            "text/plain": [
              "(8096, 13)"
            ]
          },
          "metadata": {},
          "execution_count": 49
        }
      ]
    },
    {
      "cell_type": "code",
      "source": [
        "df.columns"
      ],
      "metadata": {
        "colab": {
          "base_uri": "https://localhost:8080/"
        },
        "id": "MVV-ZFA2R34f",
        "outputId": "1e38676b-cff5-407d-c6d4-0b9fab0876ce"
      },
      "execution_count": 50,
      "outputs": [
        {
          "output_type": "execute_result",
          "data": {
            "text/plain": [
              "Index(['title', 'release_date', 'duration (in Min)', 'poster_path', 'genres',\n",
              "       'overview', 'director', 'casts', 'rating', 'total_votes', 'meta_score',\n",
              "       'languages', 'origin_country'],\n",
              "      dtype='object')"
            ]
          },
          "metadata": {},
          "execution_count": 50
        }
      ]
    },
    {
      "cell_type": "code",
      "source": [
        "df['title'].isna().sum()"
      ],
      "metadata": {
        "colab": {
          "base_uri": "https://localhost:8080/"
        },
        "id": "97Z4dL7QR7SN",
        "outputId": "f1151252-2624-4ed7-c45a-fd9883e1ab58"
      },
      "execution_count": 51,
      "outputs": [
        {
          "output_type": "execute_result",
          "data": {
            "text/plain": [
              "1102"
            ]
          },
          "metadata": {},
          "execution_count": 51
        }
      ]
    },
    {
      "cell_type": "code",
      "source": [
        "# dropping the columns which having TITLE NOT AVAILABLE\n",
        "df = df.dropna(subset=['title'])"
      ],
      "metadata": {
        "id": "JoJU5jptR_q_"
      },
      "execution_count": 56,
      "outputs": []
    },
    {
      "cell_type": "code",
      "source": [
        "# Dropping index\n",
        "df = df.reset_index().drop(columns=['index'])"
      ],
      "metadata": {
        "id": "NUVt6eRITb5v"
      },
      "execution_count": 63,
      "outputs": []
    },
    {
      "cell_type": "code",
      "source": [
        "df.shape"
      ],
      "metadata": {
        "colab": {
          "base_uri": "https://localhost:8080/"
        },
        "id": "1HgakfSGScFa",
        "outputId": "0738540f-04c7-4f03-a62f-cbd8caea6ebe"
      },
      "execution_count": 64,
      "outputs": [
        {
          "output_type": "execute_result",
          "data": {
            "text/plain": [
              "(6994, 13)"
            ]
          },
          "metadata": {},
          "execution_count": 64
        }
      ]
    },
    {
      "cell_type": "code",
      "source": [
        "df.info()"
      ],
      "metadata": {
        "colab": {
          "base_uri": "https://localhost:8080/"
        },
        "id": "pWKRFcxqT4et",
        "outputId": "372f035e-7966-49c6-d5ca-508f615a4657"
      },
      "execution_count": 66,
      "outputs": [
        {
          "output_type": "stream",
          "name": "stdout",
          "text": [
            "<class 'pandas.core.frame.DataFrame'>\n",
            "RangeIndex: 6994 entries, 0 to 6993\n",
            "Data columns (total 13 columns):\n",
            " #   Column             Non-Null Count  Dtype  \n",
            "---  ------             --------------  -----  \n",
            " 0   title              6994 non-null   object \n",
            " 1   release_date       5455 non-null   object \n",
            " 2   duration (in Min)  5577 non-null   object \n",
            " 3   poster_path        6441 non-null   object \n",
            " 4   genres             6804 non-null   object \n",
            " 5   overview           6271 non-null   object \n",
            " 6   director           6891 non-null   object \n",
            " 7   casts              6812 non-null   object \n",
            " 8   rating             5749 non-null   float64\n",
            " 9   total_votes        6198 non-null   object \n",
            " 10  meta_score         67 non-null     float64\n",
            " 11  languages          6824 non-null   object \n",
            " 12  origin_country     6933 non-null   object \n",
            "dtypes: float64(2), object(11)\n",
            "memory usage: 710.5+ KB\n"
          ]
        }
      ]
    },
    {
      "cell_type": "code",
      "source": [
        "df.isna().sum()"
      ],
      "metadata": {
        "colab": {
          "base_uri": "https://localhost:8080/",
          "height": 491
        },
        "id": "nFts57KKUJUE",
        "outputId": "8822adb6-5d13-426a-c86a-3b82408a09ac"
      },
      "execution_count": 67,
      "outputs": [
        {
          "output_type": "execute_result",
          "data": {
            "text/plain": [
              "title                   0\n",
              "release_date         1539\n",
              "duration (in Min)    1417\n",
              "poster_path           553\n",
              "genres                190\n",
              "overview              723\n",
              "director              103\n",
              "casts                 182\n",
              "rating               1245\n",
              "total_votes           796\n",
              "meta_score           6927\n",
              "languages             170\n",
              "origin_country         61\n",
              "dtype: int64"
            ],
            "text/html": [
              "<div>\n",
              "<style scoped>\n",
              "    .dataframe tbody tr th:only-of-type {\n",
              "        vertical-align: middle;\n",
              "    }\n",
              "\n",
              "    .dataframe tbody tr th {\n",
              "        vertical-align: top;\n",
              "    }\n",
              "\n",
              "    .dataframe thead th {\n",
              "        text-align: right;\n",
              "    }\n",
              "</style>\n",
              "<table border=\"1\" class=\"dataframe\">\n",
              "  <thead>\n",
              "    <tr style=\"text-align: right;\">\n",
              "      <th></th>\n",
              "      <th>0</th>\n",
              "    </tr>\n",
              "  </thead>\n",
              "  <tbody>\n",
              "    <tr>\n",
              "      <th>title</th>\n",
              "      <td>0</td>\n",
              "    </tr>\n",
              "    <tr>\n",
              "      <th>release_date</th>\n",
              "      <td>1539</td>\n",
              "    </tr>\n",
              "    <tr>\n",
              "      <th>duration (in Min)</th>\n",
              "      <td>1417</td>\n",
              "    </tr>\n",
              "    <tr>\n",
              "      <th>poster_path</th>\n",
              "      <td>553</td>\n",
              "    </tr>\n",
              "    <tr>\n",
              "      <th>genres</th>\n",
              "      <td>190</td>\n",
              "    </tr>\n",
              "    <tr>\n",
              "      <th>overview</th>\n",
              "      <td>723</td>\n",
              "    </tr>\n",
              "    <tr>\n",
              "      <th>director</th>\n",
              "      <td>103</td>\n",
              "    </tr>\n",
              "    <tr>\n",
              "      <th>casts</th>\n",
              "      <td>182</td>\n",
              "    </tr>\n",
              "    <tr>\n",
              "      <th>rating</th>\n",
              "      <td>1245</td>\n",
              "    </tr>\n",
              "    <tr>\n",
              "      <th>total_votes</th>\n",
              "      <td>796</td>\n",
              "    </tr>\n",
              "    <tr>\n",
              "      <th>meta_score</th>\n",
              "      <td>6927</td>\n",
              "    </tr>\n",
              "    <tr>\n",
              "      <th>languages</th>\n",
              "      <td>170</td>\n",
              "    </tr>\n",
              "    <tr>\n",
              "      <th>origin_country</th>\n",
              "      <td>61</td>\n",
              "    </tr>\n",
              "  </tbody>\n",
              "</table>\n",
              "</div><br><label><b>dtype:</b> int64</label>"
            ]
          },
          "metadata": {},
          "execution_count": 67
        }
      ]
    },
    {
      "cell_type": "code",
      "source": [],
      "metadata": {
        "id": "Mriji67uU79X"
      },
      "execution_count": null,
      "outputs": []
    }
  ]
}