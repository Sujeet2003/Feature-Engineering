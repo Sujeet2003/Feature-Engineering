{
  "cells": [
    {
      "cell_type": "markdown",
      "metadata": {
        "id": "view-in-github",
        "colab_type": "text"
      },
      "source": [
        "<a href=\"https://colab.research.google.com/github/Sujeet2003/Feature-Engineering/blob/main/1_fetching_tmdb_id.ipynb\" target=\"_parent\"><img src=\"https://colab.research.google.com/assets/colab-badge.svg\" alt=\"Open In Colab\"/></a>"
      ]
    },
    {
      "cell_type": "code",
      "source": [
        "import requests\n",
        "import time\n",
        "import pandas as pd"
      ],
      "metadata": {
        "id": "3kgG7Dyq3C6Q"
      },
      "execution_count": null,
      "outputs": []
    },
    {
      "cell_type": "code",
      "source": [
        "# Your TMDB API Key\n",
        "API_KEY = 'e46c5d37f787329f477b6606a4246fce'\n",
        "BASE_URL = 'https://api.themoviedb.org/3'\n",
        "LANGUAGE = 'hi'  # Hindi language code\n",
        "PAGE_LIMIT = 1000  # Maximum pages allowed by TMDb API"
      ],
      "metadata": {
        "id": "jPB6Khmv3C2u"
      },
      "execution_count": null,
      "outputs": []
    },
    {
      "cell_type": "markdown",
      "source": [
        "## Fetching Movies `Id` which will be used to find it's `IMDB_ID`"
      ],
      "metadata": {
        "id": "GUBtbPxaK_5G"
      }
    },
    {
      "cell_type": "code",
      "source": [
        "def fetch_movies_source_page(page):\n",
        "    \"\"\"Fetch Hindi movies from TMDb API for a specific page.\"\"\"\n",
        "    url = f\"{BASE_URL}/discover/movie\"\n",
        "    params = {\n",
        "        'api_key': API_KEY,\n",
        "        'language': 'en-US',  # Response language\n",
        "        'with_original_language': LANGUAGE,\n",
        "        'page': page\n",
        "    }\n",
        "    response = requests.get(url, params=params)\n",
        "\n",
        "    if response.status_code == 200:\n",
        "        return response.json()\n",
        "    else:\n",
        "        print(f\"Failed to fetch data for page {page}. Status code: {response.status_code}\")\n",
        "        return None"
      ],
      "metadata": {
        "id": "ODmRfQId3OGR"
      },
      "execution_count": null,
      "outputs": []
    },
    {
      "cell_type": "code",
      "source": [
        "def get_all_movie_ids():\n",
        "    \"\"\"Get all Hindi movie IDs by iterating through all available pages.\"\"\"\n",
        "    all_movie_ids = []\n",
        "    current_page = 1\n",
        "    total_pages = 1  # Initialize total pages\n",
        "\n",
        "    while current_page <= total_pages:\n",
        "        # print(f\"Fetching page {current_page} of {total_pages}...\")\n",
        "        data = fetch_movies_source_page(current_page)\n",
        "\n",
        "        if data:\n",
        "            total_pages = data['total_pages']  # Get total pages from the response\n",
        "            movie_ids = [movie['id'] for movie in data['results']]\n",
        "            all_movie_ids.extend(movie_ids)\n",
        "        else:\n",
        "            break  # Stop if there's an error\n",
        "\n",
        "        # TMDB allows up to 1000 pages. We limit the page requests to PAGE_LIMIT.\n",
        "        if current_page >= PAGE_LIMIT:\n",
        "            print(f\"Reached API page limit of {PAGE_LIMIT}. Stopping fetch.\")\n",
        "            break\n",
        "\n",
        "        current_page += 1\n",
        "        time.sleep(0.25)  # To avoid hitting the API rate limit\n",
        "\n",
        "    return all_movie_ids"
      ],
      "metadata": {
        "id": "eGij1iD-3ODA"
      },
      "execution_count": null,
      "outputs": []
    },
    {
      "cell_type": "code",
      "source": [
        "movie_ids = get_all_movie_ids()"
      ],
      "metadata": {
        "id": "eyRdAwha3OA3"
      },
      "execution_count": null,
      "outputs": []
    },
    {
      "cell_type": "code",
      "source": [
        "# 13751694\n",
        "# movie_ids"
      ],
      "metadata": {
        "id": "8XsaZnktaeUm"
      },
      "execution_count": null,
      "outputs": []
    },
    {
      "cell_type": "code",
      "source": [
        "hindi_movies_id_df = pd.DataFrame({\n",
        "    'movies_id': movie_ids\n",
        "})"
      ],
      "metadata": {
        "id": "HpW520JsR17R"
      },
      "execution_count": null,
      "outputs": []
    },
    {
      "cell_type": "code",
      "source": [
        "hindi_movies_id_df.to_csv('hindi_movies_id_df', index=False)"
      ],
      "metadata": {
        "id": "8ajV2F7VSlg2"
      },
      "execution_count": null,
      "outputs": []
    },
    {
      "cell_type": "code",
      "source": [
        "len(movie_ids)"
      ],
      "metadata": {
        "colab": {
          "base_uri": "https://localhost:8080/"
        },
        "id": "RhvAU3WY3N_F",
        "outputId": "c48b59f3-f28a-4bec-ad14-ba9760119641"
      },
      "execution_count": null,
      "outputs": [
        {
          "output_type": "execute_result",
          "data": {
            "text/plain": [
              "8093"
            ]
          },
          "metadata": {},
          "execution_count": 9
        }
      ]
    },
    {
      "cell_type": "code",
      "source": [
        "import requests\n",
        "\n",
        "# IMDB API by Rapid Api 50/M\n",
        "\n",
        "# url = \"https://imdb-api12.p.rapidapi.com/title/tt13751694\"\n",
        "\n",
        "# headers = {\n",
        "# \t\"x-rapidapi-key\": \"dbafaf0634msh914c78f9dae2c0cp1ddd4ajsn187ece14089c\",\n",
        "# \t\"x-rapidapi-host\": \"imdb-api12.p.rapidapi.com\"\n",
        "# }\n",
        "\n",
        "# response = requests.get(url, headers=headers)\n",
        "\n",
        "# response.json()\n",
        "\n",
        "\n",
        "\n",
        "# IMDb Rapid api 500/M\n",
        "# import requests\n",
        "\n",
        "# url = \"https://imdb146.p.rapidapi.com/v1/title/\"\n",
        "\n",
        "# querystring = {\"id\":\"tt13751694\"}\n",
        "\n",
        "# headers = {\n",
        "# \t\"x-rapidapi-key\": \"dbafaf0634msh914c78f9dae2c0cp1ddd4ajsn187ece14089c\",\n",
        "# \t\"x-rapidapi-host\": \"imdb146.p.rapidapi.com\"\n",
        "# }\n",
        "\n",
        "# response = requests.get(url, headers=headers, params=querystring)\n",
        "\n",
        "# response.json()"
      ],
      "metadata": {
        "id": "JUrEKsWj6mAs"
      },
      "execution_count": null,
      "outputs": []
    },
    {
      "cell_type": "code",
      "source": [],
      "metadata": {
        "id": "DuKLhcHR6l9k"
      },
      "execution_count": null,
      "outputs": []
    },
    {
      "cell_type": "code",
      "source": [],
      "metadata": {
        "id": "drUNwD-d6l6X"
      },
      "execution_count": null,
      "outputs": []
    },
    {
      "cell_type": "code",
      "source": [],
      "metadata": {
        "id": "H2pI0_eR3N8r"
      },
      "execution_count": null,
      "outputs": []
    },
    {
      "cell_type": "code",
      "source": [],
      "metadata": {
        "id": "_p4m-As0G2qZ"
      },
      "execution_count": null,
      "outputs": []
    }
  ],
  "metadata": {
    "colab": {
      "provenance": [],
      "authorship_tag": "ABX9TyO+nWAyUfd2uCzMEMzPUML9",
      "include_colab_link": true
    },
    "kernelspec": {
      "display_name": "Python 3",
      "name": "python3"
    },
    "language_info": {
      "name": "python"
    }
  },
  "nbformat": 4,
  "nbformat_minor": 0
}